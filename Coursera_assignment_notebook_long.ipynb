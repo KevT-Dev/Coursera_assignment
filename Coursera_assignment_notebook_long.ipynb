{
 "cells": [
  {
   "cell_type": "markdown",
   "metadata": {
    "collapsed": true
   },
   "source": [
    "# Coursera Assignment Tools for Data Science"
   ]
  },
  {
   "cell_type": "markdown",
   "metadata": {},
   "source": [
    "### by Kevin Treder\n",
    "\n",
    "*Hi, I'm Kevin, research scientist and interested in data science to gain further knowledge on tools, best practices and algorithms to increase my research output.*"
   ]
  },
  {
   "cell_type": "markdown",
   "metadata": {},
   "source": [
    "Languages typically used within data science include:\n",
    "\n",
    "- Python\n",
    "- R \n",
    "- SQL\n",
    "\n",
    "but also other languages like the following can be readily used:\n",
    "\n",
    "- C++\n",
    "- MATLAB\n",
    "- JAVA"
   ]
  },
  {
   "cell_type": "markdown",
   "metadata": {},
   "source": [
    "Typical data science libraries used in Python include:\n",
    "\n",
    "- numpy\n",
    "- scipy\n",
    "- pandas\n",
    "- scikit-learn\n",
    "- tensorflow\n",
    "- pytorch\n",
    "- matplotlib\n",
    "- seaborn\n",
    "- etc."
   ]
  },
  {
   "cell_type": "markdown",
   "metadata": {},
   "source": [
    "Some data science tools (categorised in open source and commercial) are summarised in the table below:\n",
    "\n",
    "|Open Source|Commercial|\n",
    "|-----------|----------|\n",
    "|Jupyter|Microsoft SQL Server|\n",
    "|MySQL|IBM Watson Studio Desktop|\n",
    "|TensorFlow service|Microsoft Azure Machine Learning|\n",
    "|Apache Spark|SPSS Modeler|\n"
   ]
  },
  {
   "cell_type": "markdown",
   "metadata": {},
   "source": [
    "This is a markdown cell with arithmetic expressions. Here is a general formula to polynomials (LaTeX):\n",
    "$$\\sum_{k=0}^{\\infty}a_kx^k = a_0+a_1x+a_2x^2...a_{k-1}x^{k-1}+a_kx^k$$\n",
    "\n",
    "Here a more simple one, written in text:\n",
    "1+1 = 2"
   ]
  },
  {
   "cell_type": "code",
   "execution_count": 8,
   "metadata": {},
   "outputs": [
    {
     "data": {
      "text/plain": [
       "'The calculated sum is: 9, and its square is: 81'"
      ]
     },
     "execution_count": 8,
     "metadata": {},
     "output_type": "execute_result"
    }
   ],
   "source": [
    "#Lets multiply and add in code\n",
    "\n",
    "import numpy as np\n",
    "\n",
    "r_sum = np.random.randint(10) + np.random.randint(10)\n",
    "r_square= r_sum**2\n",
    "\n",
    "f'The calculated sum is: {r_sum}, and its square is: {r_square}'"
   ]
  },
  {
   "cell_type": "code",
   "execution_count": 15,
   "metadata": {},
   "outputs": [
    {
     "data": {
      "text/plain": [
       "'25 minutes are equal to 0.417 hours'"
      ]
     },
     "execution_count": 15,
     "metadata": {},
     "output_type": "execute_result"
    }
   ],
   "source": [
    "#This cell converts minutes into hours:\n",
    "\n",
    "minutes = np.random.randint(1000)\n",
    "hours = np.round((minutes/60),3)\n",
    "\n",
    "f'{minutes} minutes are equal to {hours} hours'"
   ]
  },
  {
   "cell_type": "markdown",
   "metadata": {},
   "source": [
    "I am not 100 % sure to what the term 'Objectives' in Exercise 10 refers to, but for the sake of completion, I am henceforth assuming that this cell shall describe what my objectives are in this course. My objectives are:\n",
    "\n",
    "1. Learn more about Data Science Fundamentals (i.e. coding, stats, ML)\n",
    "2. Understand commercial and open source tools to enhance my own work\n",
    "3. Work with different types of data"
   ]
  },
  {
   "cell_type": "markdown",
   "metadata": {},
   "source": [
    "### Author's name: Kevin Treder"
   ]
  },
  {
   "cell_type": "code",
   "execution_count": null,
   "metadata": {},
   "outputs": [],
   "source": []
  }
 ],
 "metadata": {
  "kernelspec": {
   "display_name": "Python 3.10",
   "language": "python",
   "name": "python3"
  },
  "language_info": {
   "codemirror_mode": {
    "name": "ipython",
    "version": 3
   },
   "file_extension": ".py",
   "mimetype": "text/x-python",
   "name": "python",
   "nbconvert_exporter": "python",
   "pygments_lexer": "ipython3",
   "version": "3.10.6"
  }
 },
 "nbformat": 4,
 "nbformat_minor": 1
}
